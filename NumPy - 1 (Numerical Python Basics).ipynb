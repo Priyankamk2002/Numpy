{
 "cells": [
  {
   "cell_type": "raw",
   "id": "44ae7e8c",
   "metadata": {},
   "source": [
    "1. What is NumPy? Why is it used in Python?\n",
    "Objective:\n",
    "Understand the basics of NumPy and its significance in scientific computing\n"
   ]
  },
  {
   "cell_type": "raw",
   "id": "8ff3067c",
   "metadata": {},
   "source": [
    "Numpy : Numerical Python\n",
    "NumPy is a Python library used for working with arrays.\n",
    "NumPy (Numerical Python) is a powerful Python library used for numerical computing. It provides fast, efficient operations on large arrays and matrices, and comes with many useful math functions.\n",
    "\n",
    "\n",
    "why?\n",
    "NumPy arrays (ndarray) are faster and more memory-efficient than Python lists.\n",
    "Supports Multi-Darray : handle 1D,2D,3D\n",
    "Supports mathematical functions.\n",
    "Numpy can perform operations on arrays of different shapes without using loops."
   ]
  },
  {
   "cell_type": "raw",
   "id": "933e94c8",
   "metadata": {},
   "source": [
    "2. Install NumPy in your Python environment.\n",
    "Objective:\n",
    "\tInstall the NumPy library to begin using it in your projects.\n"
   ]
  },
  {
   "cell_type": "code",
   "execution_count": null,
   "id": "459d45f2",
   "metadata": {},
   "outputs": [],
   "source": [
    "!pip install numpy"
   ]
  },
  {
   "cell_type": "raw",
   "id": "403fc1fc",
   "metadata": {},
   "source": [
    "3. Create a simple 1D NumPy array containing the values 10, 20, 30, 40, and 50.\n",
    "Objective:\n",
    "\tLearn how to create and work with basic NumPy arrays.\n"
   ]
  },
  {
   "cell_type": "code",
   "execution_count": 2,
   "id": "ccb126a3",
   "metadata": {},
   "outputs": [],
   "source": [
    "import numpy as np"
   ]
  },
  {
   "cell_type": "code",
   "execution_count": 4,
   "id": "d6ce13ea",
   "metadata": {},
   "outputs": [],
   "source": [
    "arry_1D = np.array([10,20,30,40,50])"
   ]
  },
  {
   "cell_type": "code",
   "execution_count": 5,
   "id": "af0af676",
   "metadata": {},
   "outputs": [
    {
     "data": {
      "text/plain": [
       "array([10, 20, 30, 40, 50])"
      ]
     },
     "execution_count": 5,
     "metadata": {},
     "output_type": "execute_result"
    }
   ],
   "source": [
    "arry_1D"
   ]
  },
  {
   "cell_type": "raw",
   "id": "c5f7b00a",
   "metadata": {},
   "source": [
    "4. Create an array on your own using Numpy and print the shape and data type of the array you created.\n",
    "Objective:\n",
    "\tUnderstand how to access the attributes of a NumPy array, such as its shape and data type.\n"
   ]
  },
  {
   "cell_type": "code",
   "execution_count": 6,
   "id": "6be3b676",
   "metadata": {},
   "outputs": [],
   "source": [
    "array_2D = np.array([[1,2,3],[4,5,6]])"
   ]
  },
  {
   "cell_type": "code",
   "execution_count": 7,
   "id": "b6e29d69",
   "metadata": {},
   "outputs": [
    {
     "data": {
      "text/plain": [
       "array([[1, 2, 3],\n",
       "       [4, 5, 6]])"
      ]
     },
     "execution_count": 7,
     "metadata": {},
     "output_type": "execute_result"
    }
   ],
   "source": [
    "array_2D"
   ]
  },
  {
   "cell_type": "code",
   "execution_count": 9,
   "id": "cc3af8c1",
   "metadata": {},
   "outputs": [
    {
     "data": {
      "text/plain": [
       "(2, 3)"
      ]
     },
     "execution_count": 9,
     "metadata": {},
     "output_type": "execute_result"
    }
   ],
   "source": [
    "array_2D.shape"
   ]
  },
  {
   "cell_type": "code",
   "execution_count": 10,
   "id": "c4a43233",
   "metadata": {},
   "outputs": [
    {
     "data": {
      "text/plain": [
       "dtype('int32')"
      ]
     },
     "execution_count": 10,
     "metadata": {},
     "output_type": "execute_result"
    }
   ],
   "source": [
    "array_2D.dtype"
   ]
  },
  {
   "cell_type": "raw",
   "id": "4821cc10",
   "metadata": {},
   "source": [
    "5. What are the advantages of using NumPy arrays over Python lists?\n",
    "Objective:\n",
    "\tExplore the key differences between NumPy arrays and Python lists.\n"
   ]
  },
  {
   "cell_type": "markdown",
   "id": "9b4af94e",
   "metadata": {},
   "source": [
    "NumPy arrays provide a more efficient, faster, and powerful way to work with numerical data compared to Python lists, especially when dealing with large datasets or complex mathematical operations."
   ]
  },
  {
   "cell_type": "raw",
   "id": "2f537349",
   "metadata": {},
   "source": [
    "feature                array                                   list\n",
    "Data type              Homogeneous                             Heteregeneous\n",
    "size                   fixed                                   dynamic\n",
    "memory efficiency      more                                    less\n",
    "vectorized operation   yes                                     no\n",
    "Broadcasting           yes                                     no\n",
    "Performance\t\t       Faster, optimized for large datasets    Slower numerical tasks"
   ]
  },
  {
   "cell_type": "raw",
   "id": "42dac5fb",
   "metadata": {},
   "source": [
    "6. Create a 2D NumPy array (matrix) of size 2x3 with values from 1 to 6.\n",
    "Objective:\n",
    "\tUnderstand how to create multi-dimensional arrays and how they work in NumPy.\n"
   ]
  },
  {
   "cell_type": "code",
   "execution_count": 11,
   "id": "4aa0dcc3",
   "metadata": {},
   "outputs": [],
   "source": [
    "arr2 = np.array([[1,2,3],[4,5,6]])"
   ]
  },
  {
   "cell_type": "code",
   "execution_count": 12,
   "id": "0d0a16e7",
   "metadata": {},
   "outputs": [
    {
     "data": {
      "text/plain": [
       "array([[1, 2, 3],\n",
       "       [4, 5, 6]])"
      ]
     },
     "execution_count": 12,
     "metadata": {},
     "output_type": "execute_result"
    }
   ],
   "source": [
    "arr2"
   ]
  },
  {
   "cell_type": "raw",
   "id": "538e4c30",
   "metadata": {},
   "source": [
    "7. Create a 3x3 identity matrix using NumPy.\n",
    "Objective:\n",
    "\tLearn how to create special types of matrices like the identity matrix using NumPy functions.\n"
   ]
  },
  {
   "cell_type": "code",
   "execution_count": 15,
   "id": "324e4c79",
   "metadata": {},
   "outputs": [],
   "source": [
    "arr3 = np.array([[[1,2,3],[4,5,6]],[[6,7,8],[6,7,9]]])"
   ]
  },
  {
   "cell_type": "code",
   "execution_count": 16,
   "id": "4dbf7ae7",
   "metadata": {},
   "outputs": [
    {
     "data": {
      "text/plain": [
       "array([[[1, 2, 3],\n",
       "        [4, 5, 6]],\n",
       "\n",
       "       [[6, 7, 8],\n",
       "        [6, 7, 9]]])"
      ]
     },
     "execution_count": 16,
     "metadata": {},
     "output_type": "execute_result"
    }
   ],
   "source": [
    "arr3"
   ]
  },
  {
   "cell_type": "raw",
   "id": "190fa155",
   "metadata": {},
   "source": [
    "8. What is the difference between the np.array() function and np.arange() function in NumPy?\n",
    "Objective:\n",
    "\tUnderstand the difference between np.array() and np.arange() for creating NumPy arrays.\n"
   ]
  },
  {
   "cell_type": "raw",
   "id": "2ee517bf",
   "metadata": {},
   "source": [
    "np.array():\n",
    "\n",
    "Converts an existing sequence (list, tuple, etc.) into a NumPy array.\n",
    "More flexible in terms of input types, as it directly uses the provided data.\n",
    "\n",
    "np.arange():\n",
    "\n",
    "Generates a sequence of numbers within a specific range with a defined step size.\n",
    "Used when you need a range of numbers and step control.\n"
   ]
  },
  {
   "cell_type": "raw",
   "id": "d8960cca",
   "metadata": {},
   "source": [
    "9. Create a NumPy array with values from 1 to 100 with a step of 5 using np.arange().\n",
    "\n",
    "Objective:\n",
    "\tLearn to use np.arange() to generate sequences of numbers in a specific range.\n"
   ]
  },
  {
   "cell_type": "code",
   "execution_count": 18,
   "id": "a8022c91",
   "metadata": {},
   "outputs": [
    {
     "data": {
      "text/plain": [
       "array([ 1,  6, 11, 16, 21, 26, 31, 36, 41, 46, 51, 56, 61, 66, 71, 76, 81,\n",
       "       86, 91, 96])"
      ]
     },
     "execution_count": 18,
     "metadata": {},
     "output_type": "execute_result"
    }
   ],
   "source": [
    "np.arange(1,100,5)"
   ]
  },
  {
   "cell_type": "code",
   "execution_count": null,
   "id": "52725d9c",
   "metadata": {},
   "outputs": [],
   "source": []
  }
 ],
 "metadata": {
  "kernelspec": {
   "display_name": "Python 3 (ipykernel)",
   "language": "python",
   "name": "python3"
  },
  "language_info": {
   "codemirror_mode": {
    "name": "ipython",
    "version": 3
   },
   "file_extension": ".py",
   "mimetype": "text/x-python",
   "name": "python",
   "nbconvert_exporter": "python",
   "pygments_lexer": "ipython3",
   "version": "3.9.12"
  }
 },
 "nbformat": 4,
 "nbformat_minor": 5
}
